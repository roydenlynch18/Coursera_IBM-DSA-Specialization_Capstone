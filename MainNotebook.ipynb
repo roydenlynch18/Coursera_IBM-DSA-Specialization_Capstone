{
 "cells": [
  {
   "cell_type": "markdown",
   "metadata": {},
   "source": [
    "<html>\n",
    "    \n",
    "    <center><h1>Coursera</h1></center>\n",
    "    <center><h2>IBM Data Science Professional Certificate</h2></center>\n",
    "    <center><h2>Captone Project</h2></center>\n",
    "\n",
    "    <h5>Author: Royden Lynch<br>\n",
    "        Since:  04/16/2019</h5>\n",
    "        \n",
    "    <h4>Description:</h4>\n",
    "    <p>\n",
    "        This notebook will be the main notebook used for my final capstone project.\n",
    "    </p>\n",
    "\n",
    "</html>"
   ]
  },
  {
   "cell_type": "markdown",
   "metadata": {},
   "source": [
    "### 1.0 - Project Setup"
   ]
  },
  {
   "cell_type": "markdown",
   "metadata": {},
   "source": [
    "#### 1.1 - Install Packages"
   ]
  },
  {
   "cell_type": "code",
   "execution_count": 1,
   "metadata": {},
   "outputs": [],
   "source": [
    "# Numpy\n",
    "#   This will be used for handling numbers in array formats,\n",
    "#   as well as performing a variety of numerical methods on\n",
    "#   these arrays.\n",
    "import numpy  as np\n",
    "# Pandas\n",
    "#   This will be used for handling data in the format of\n",
    "#   dataframes. It provides many useful methods for dealing\n",
    "#   with tabular-like data.\n",
    "import pandas as pd"
   ]
  },
  {
   "cell_type": "code",
   "execution_count": 2,
   "metadata": {},
   "outputs": [
    {
     "name": "stdout",
     "output_type": "stream",
     "text": [
      "Hello Capstone Project Course!\n"
     ]
    }
   ],
   "source": [
    "print(\"Hello Capstone Project Course!\")"
   ]
  }
 ],
 "metadata": {
  "kernelspec": {
   "display_name": "Python 3",
   "language": "python",
   "name": "python3"
  },
  "language_info": {
   "codemirror_mode": {
    "name": "ipython",
    "version": 3
   },
   "file_extension": ".py",
   "mimetype": "text/x-python",
   "name": "python",
   "nbconvert_exporter": "python",
   "pygments_lexer": "ipython3",
   "version": "3.6.5"
  }
 },
 "nbformat": 4,
 "nbformat_minor": 2
}
